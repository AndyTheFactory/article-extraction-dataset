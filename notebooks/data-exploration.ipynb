{
 "cells": [
  {
   "cell_type": "code",
   "execution_count": 12,
   "metadata": {},
   "outputs": [],
   "source": [
    "import pandas as pd\n",
    "\n",
    "df = pd.read_json('../news_articles.json', orient='records').set_index('id')"
   ]
  },
  {
   "cell_type": "code",
   "execution_count": 13,
   "metadata": {},
   "outputs": [
    {
     "data": {
      "text/html": [
       "<div>\n",
       "<style scoped>\n",
       "    .dataframe tbody tr th:only-of-type {\n",
       "        vertical-align: middle;\n",
       "    }\n",
       "\n",
       "    .dataframe tbody tr th {\n",
       "        vertical-align: top;\n",
       "    }\n",
       "\n",
       "    .dataframe thead th {\n",
       "        text-align: right;\n",
       "    }\n",
       "</style>\n",
       "<table border=\"1\" class=\"dataframe\">\n",
       "  <thead>\n",
       "    <tr style=\"text-align: right;\">\n",
       "      <th></th>\n",
       "      <th>title</th>\n",
       "      <th>authors</th>\n",
       "      <th>date</th>\n",
       "      <th>text</th>\n",
       "      <th>html_file</th>\n",
       "      <th>site</th>\n",
       "      <th>link</th>\n",
       "    </tr>\n",
       "    <tr>\n",
       "      <th>id</th>\n",
       "      <th></th>\n",
       "      <th></th>\n",
       "      <th></th>\n",
       "      <th></th>\n",
       "      <th></th>\n",
       "      <th></th>\n",
       "      <th></th>\n",
       "    </tr>\n",
       "  </thead>\n",
       "  <tbody>\n",
       "    <tr>\n",
       "      <th>1</th>\n",
       "      <td>Federal agency quashes Georgia's plan to let p...</td>\n",
       "      <td></td>\n",
       "      <td>2023-12-17</td>\n",
       "      <td>ATLANTA -- Federal drug officials are warning ...</td>\n",
       "      <td>6a32c048474b4450acf801b7c7d2ea70</td>\n",
       "      <td>http://abcnews.go.com</td>\n",
       "      <td>https://abcnews.go.com/business/wirestory/fede...</td>\n",
       "    </tr>\n",
       "    <tr>\n",
       "      <th>2</th>\n",
       "      <td>US postage stamp and shipping prices go up Sunday</td>\n",
       "      <td>Yi-Jin Yu</td>\n",
       "      <td>2023-01-19</td>\n",
       "      <td>The U.S. Postal Service will increase stamp pr...</td>\n",
       "      <td>ebdcf498abb125c22060c160447c639b</td>\n",
       "      <td>http://abcnews.go.com</td>\n",
       "      <td>https://abcnews.go.com/gma/living/postage-stam...</td>\n",
       "    </tr>\n",
       "    <tr>\n",
       "      <th>3</th>\n",
       "      <td>U.N. votes to ramp up Gaza aid, demand release...</td>\n",
       "      <td>Pamela Falk</td>\n",
       "      <td>2023-12-22</td>\n",
       "      <td>United Nations – The U.N. Security Council vot...</td>\n",
       "      <td>97e7c43a928f5913d2a48acbf9fddc44</td>\n",
       "      <td>http://aol.com</td>\n",
       "      <td>https://www.aol.com/u-n-votes-ramp-gaza-173512...</td>\n",
       "    </tr>\n",
       "    <tr>\n",
       "      <th>4</th>\n",
       "      <td>How to Create A Vision Board With Your Kids</td>\n",
       "      <td>Zayda Rivera</td>\n",
       "      <td>2023-12-22</td>\n",
       "      <td>A vision board can be a great tool to help chi...</td>\n",
       "      <td>c543199beaf9dd9aa494006b93e9fc13</td>\n",
       "      <td>http://aol.com</td>\n",
       "      <td>https://www.aol.com/create-vision-board-kids-2...</td>\n",
       "    </tr>\n",
       "    <tr>\n",
       "      <th>5</th>\n",
       "      <td>Florida State has sued the ACC, setting the st...</td>\n",
       "      <td>RALPH D. RUSSO, BOB FERRANTE</td>\n",
       "      <td>2023-12-22</td>\n",
       "      <td>TALLAHASSEE, Fla. (AP) — Florida State sued th...</td>\n",
       "      <td>fed691ece5355f4d8e3900231d69f044</td>\n",
       "      <td>http://apnews.com</td>\n",
       "      <td>https://apnews.com/article/florida-state-acc-l...</td>\n",
       "    </tr>\n",
       "  </tbody>\n",
       "</table>\n",
       "</div>"
      ],
      "text/plain": [
       "                                                title  \\\n",
       "id                                                      \n",
       "1   Federal agency quashes Georgia's plan to let p...   \n",
       "2   US postage stamp and shipping prices go up Sunday   \n",
       "3   U.N. votes to ramp up Gaza aid, demand release...   \n",
       "4         How to Create A Vision Board With Your Kids   \n",
       "5   Florida State has sued the ACC, setting the st...   \n",
       "\n",
       "                         authors       date  \\\n",
       "id                                            \n",
       "1                                2023-12-17   \n",
       "2                      Yi-Jin Yu 2023-01-19   \n",
       "3                    Pamela Falk 2023-12-22   \n",
       "4                   Zayda Rivera 2023-12-22   \n",
       "5   RALPH D. RUSSO, BOB FERRANTE 2023-12-22   \n",
       "\n",
       "                                                 text  \\\n",
       "id                                                      \n",
       "1   ATLANTA -- Federal drug officials are warning ...   \n",
       "2   The U.S. Postal Service will increase stamp pr...   \n",
       "3   United Nations – The U.N. Security Council vot...   \n",
       "4   A vision board can be a great tool to help chi...   \n",
       "5   TALLAHASSEE, Fla. (AP) — Florida State sued th...   \n",
       "\n",
       "                           html_file                   site  \\\n",
       "id                                                            \n",
       "1   6a32c048474b4450acf801b7c7d2ea70  http://abcnews.go.com   \n",
       "2   ebdcf498abb125c22060c160447c639b  http://abcnews.go.com   \n",
       "3   97e7c43a928f5913d2a48acbf9fddc44         http://aol.com   \n",
       "4   c543199beaf9dd9aa494006b93e9fc13         http://aol.com   \n",
       "5   fed691ece5355f4d8e3900231d69f044      http://apnews.com   \n",
       "\n",
       "                                                 link  \n",
       "id                                                     \n",
       "1   https://abcnews.go.com/business/wirestory/fede...  \n",
       "2   https://abcnews.go.com/gma/living/postage-stam...  \n",
       "3   https://www.aol.com/u-n-votes-ramp-gaza-173512...  \n",
       "4   https://www.aol.com/create-vision-board-kids-2...  \n",
       "5   https://apnews.com/article/florida-state-acc-l...  "
      ]
     },
     "execution_count": 13,
     "metadata": {},
     "output_type": "execute_result"
    }
   ],
   "source": [
    "df.head(5)"
   ]
  },
  {
   "cell_type": "code",
   "execution_count": 19,
   "metadata": {},
   "outputs": [],
   "source": [
    "import langdetect\n",
    "\n",
    "df['language'] = df.text.apply(lambda x: langdetect.detect(x))"
   ]
  },
  {
   "cell_type": "code",
   "execution_count": 21,
   "metadata": {},
   "outputs": [
    {
     "data": {
      "text/plain": [
       "language\n",
       "en    421\n",
       "it      2\n",
       "es      1\n",
       "Name: count, dtype: int64"
      ]
     },
     "execution_count": 21,
     "metadata": {},
     "output_type": "execute_result"
    }
   ],
   "source": [
    "df.language.value_counts()"
   ]
  },
  {
   "cell_type": "code",
   "execution_count": 22,
   "metadata": {},
   "outputs": [],
   "source": [
    "df['text_len'] = df.text.apply(len)"
   ]
  },
  {
   "cell_type": "code",
   "execution_count": 23,
   "metadata": {},
   "outputs": [
    {
     "data": {
      "text/plain": [
       "count      424.000000\n",
       "mean      5731.926887\n",
       "std       6411.539254\n",
       "min        214.000000\n",
       "25%       2398.750000\n",
       "50%       4113.000000\n",
       "75%       6638.250000\n",
       "max      54729.000000\n",
       "Name: text_len, dtype: float64"
      ]
     },
     "execution_count": 23,
     "metadata": {},
     "output_type": "execute_result"
    }
   ],
   "source": [
    "df.text_len.describe()"
   ]
  },
  {
   "cell_type": "code",
   "execution_count": 24,
   "metadata": {},
   "outputs": [],
   "source": [
    "from nltk.tokenize import word_tokenize\n",
    "\n",
    "df['tokens'] = df.text.apply(lambda x: len(word_tokenize(x)))"
   ]
  },
  {
   "cell_type": "code",
   "execution_count": 25,
   "metadata": {},
   "outputs": [
    {
     "data": {
      "text/plain": [
       "count      424.000000\n",
       "mean      1116.547170\n",
       "std       1263.098505\n",
       "min         41.000000\n",
       "25%        473.500000\n",
       "50%        764.000000\n",
       "75%       1267.000000\n",
       "max      11073.000000\n",
       "Name: tokens, dtype: float64"
      ]
     },
     "execution_count": 25,
     "metadata": {},
     "output_type": "execute_result"
    }
   ],
   "source": [
    "df.tokens.describe()"
   ]
  },
  {
   "cell_type": "code",
   "execution_count": null,
   "metadata": {},
   "outputs": [],
   "source": []
  }
 ],
 "metadata": {
  "kernelspec": {
   "display_name": "Python 3",
   "language": "python",
   "name": "python3"
  },
  "language_info": {
   "codemirror_mode": {
    "name": "ipython",
    "version": 3
   },
   "file_extension": ".py",
   "mimetype": "text/x-python",
   "name": "python",
   "nbconvert_exporter": "python",
   "pygments_lexer": "ipython3",
   "version": "3.11.8"
  }
 },
 "nbformat": 4,
 "nbformat_minor": 2
}
